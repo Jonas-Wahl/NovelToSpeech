{
 "cells": [
  {
   "cell_type": "code",
   "execution_count": 27,
   "metadata": {},
   "outputs": [
    {
     "name": "stdout",
     "output_type": "stream",
     "text": [
      "On the outskirts of Union City, still protected by the outer walls (barely), lies The Pub. It has no proper name, for it is older than the concord that made Union City what it is today. In fact, there are rumours that hundreds of years ago, the Founders had shared a drink here. Since then, nothing of note (besides the number of teeth collected on the floor each night) has happened here. But that may soon change. The building itself has been repaired and replaced too many times to count, but the wooden seats have always been uncomfortable, and the food generously described as edible. The clientele move like a tidal wave, with flecks of spittle for flying foam. Today, there is the usual rabble of customers roughhousing. Wait-staff navigate tight turns in a dance of balance and running through a battlefield. And in the eye of a hurricane, with a respectful distance maintained by a crowd that might not be able to collectively spell the world “respect”, sits a bard. Not the flamboyant kind, who can steal a heart with a single smile, nor the magical kind known as much for adventure as the string of broken hearts they leave in their wake. This is a humble, true bard. Just a boy with a lute, and a tune in his heart. “Theo, can we please get the song about the Donkey and the Wench again?” Any unfortunate tourists trying to get a taste of the “outskirt life” who wander in here may find it odd that a man more scar than skin politely asks a lanky boy instead of commanding him. If they ever decide to speak that thought out loud, they will contribute to the tooth tally. The boy will then repeat for the thirty-seventh time that he is eighteen now and thus a man. Everyone around him will laugh and call him a man for the rest of the night, because he’s only a boy and there’s no harm in humouring him. “How about the tale of the brave Tooth Collector, who defended the honour of a humble man?” Says the bard, to chuckles and heckles and cheers. A chant of “Bard Man! Bard Man!” infects the crowd, regardless of how nonsensical or pointless it is. It’s a bit of fun, and that’s all that matters. They quieten down, as Theodore, First of His (only) Name, starts to pluck at strings, and hum until a less-literal magic happens. A song never sung before leaves his lips, and he weaves his spell on a group of people who have otherwise never been silent since before they were born. An improvisational magic is cast, in a way that would leave a proper bard irritated and concerned. Hours later, when half the Pub has gone to sleep, and the barkeep (im)politely tells everyone to shove off, Theo sings his final song of the night. For once, it is a song he has sung before. It is the song he sings every night to say goodbye. And upon the first few notes those still awake sport a bittersweet smile. For this is the end, but what an end it is. “Gilth the God of ThunderLooked down upon the mountain,At faces of wonder and awe.He summoned storms as he spokeAnd sang with the gale,And smote those who broke the law.The rest he left to mourn their kin,And though he never came again,You can still hear his song in the wind.” “Right guys, you know what that means. Leave any tips with the bar, and I’ll see you tomorrow night!” Said Theo to drunken noises of acknowledgement, as he slung his lute over his back and headed to the bar. “Good work, boy.” The barkeep grunted, and threw a handful of coins in the air at Theo. With a wink and a smile, his hand effortlessly grabbed them all, and introduced them to their new family in his satchel. “Alan,” Theo protests, “I’m eighteen now! I’m a man!” He receives an eye-roll in response. He grabs a chunk of bread and heads out the (mostly-intact) door. “Stay safe, boy!” Alan shouts after him, and Theo can taste the way his lips let the “boy” percolate and ferment before letting it out. Theo’s shoulders hunch the moment he is out of view, and the bravado he wielded in the comfort of The Pub disappears with an exhausted sigh. --- Theo’s home would need to go through a renovation costing the good majority of a gold coin for it to be considered humble. Still, it is home, and the thought of returning to it (drafts and rats and all) and (most importantly) his bed keeps him pre-occupied as his legs walk him there. He wanders empty streets of shacks and wooden buildings, ducks under rusted gates, and takes alleys one would normally avoid to preserve their life as shortcuts. His thoughts are still filled with dreams of sleep when he bumps into someone. It takes a moment for his brain to register that it needs to process what his eyes are seeing, and in that moment everyone in the alley turns to him. The one he bumped into is dressed impeccably, a garish green suit that glimmers in the moonlight. They sport a slight smirk that turns into a grin as they realise who has interrupted their meeting. A careful eye would spot the way the wind dances around their form, keeping their hair and cloak perpetually waving in the breeze. A knowledgeable eye would understand that this person holds a high level of magic. Theodore, who has the eyes of a bard, knows none of that. But he does know that this is The Dancing Wind, arguably the most famous (but definitely the most mysterious) bard in all of Union City. All the others in the alley are dressed in clothes that are extremely mundane. They don’t wear matching black clothes or anything that blends into the night, but the tanned and stained clothes that everyone else in a crowd would wear. The kinds that, if they were to scatter and disperse in every direction and leave their weapons, it would be nearly impossible to discern them from a fishmonger without a thorough interrogation. These were killers, ready to do their job and disappear. It was hard to imagine this encounter ending in anything but bloodshed. Now, Theo had been privy to enough arguments about who would hypothetically win in a fight to know that nobody had ever considered The Dancing Wind a potential victor in any fight outside the arena of love or the stage. But still, they were famous, and surely there was something that gave them the confidence to stare down ten people holding ten swords and still sport a smile. The mental calculus of how much help he (an untrained, definitely-fully-grown-man) could offer in a proper fight was vanishingly small. But such an incredible bard has so many songs left to write, and surely the weight of his insignificant existence was a worthwhile trade to save a future opus. Maybe even this way, his deeds tonight could be immortalised in a way they Theo was certain he would never be. A little voice in his head that he would deny existed also said that if he could genuinely help, and stay alive, then maybe The Dancing Wind would do him a favour. Maybe all of this was a search for some justification that wasn’t the fact that Theo just wanted to help. That this would be another echo in his mind of all the ways he’s not who he could have been. “Run.” Said Theo. “I’ll try to buy you some time.” His voice was as steady and as calm as he wasn’t, and a few clumps of mud started to hesitantly hover as he sang. He tried not to think about the way his hands were shaking. Theo had been described as stupid, as impulsive, and as reckless many times (especially by Alan), but this was the first time he agreed. The gang started to laugh at this amateur throwing his life away. A hand was gently placed on his shoulder, and the kind of pealing laughter that sounds like a belltower echoed through the alley and silenced the gang. All ten members stumbled, as their feet suddenly became trapped in the dirt. “You’ve got no talent at all and you’re too nosy for your own good, but you’re brave, I’ll give you that.” Said The Dancing Wind, with an amused smile. “Don’t worry, I’ll take care of this.” Before Theo realised, they had somehow slipped past, procured a whip from an empty hand, and yanked the closest bastard out of the mud and straight into their fist. To call it a fight would be incorrect. This was humiliation. One by one, they danced around the swords, grabbing them by the flat of the blade and throwing them out of reach, slapping each gang member as an afterthought as they waltzed by humming. Once the final gang member was disarmed, the humming turned into a sharp whistle, and every sword and piece of metal in the alley started to levitate, before shooting towards the gang and pinning them all to the alley by their shirt. The dirt started to darken underneath the feet of half of them. “Tell your boss that not only will I not perform at his birthday, but he is banned from ever entering this great city again. He has until sunrise to leave before I hunt him down.” The Dancing Wind called behind them as they turned around, and walked out of the alley past a gobsmacked Theo, ignoring the ten men they left pissing themselves. They paused, and turned their head to speak over their shoulder. “What’s your name?” The Dancing Wind asked, with none of the mirth that they’d held before. Their eyes searched his body, and Theo felt exposed and vulnerable in a way that he hadn’t since he was a starving orphan. “Theo, Si-Mada- Your Dancing Windliness.” If he wasn’t blushing before, he was now. “It’s short. For Theodore.” The words fought him on their way out, and he desperately tried to not get somehow more flustered. “Theodore.” They rolled the name around like a sweet, eyes thoughtful as they continued to stare at Theo. “Why did you try to help?” Every possible reason fled his head in that moment, and his mouth grew dry. Before he could muster the up the courage to say anything at all, The Dancing Wind continued. “Cute.” The smile was returning, and their eyes were laughing at a joke that Theo wasn’t privy to. “I would rather a brave idiot than a coward with all the power in the world.” They paused, fingers drumming on their face as they became lost in thought. Theo didn’t dare interrupt, in case they started to ask questions again. “Tomorrow, go to the College of Song. Show them this, and tell them that Sparrow sent you.” They flipped a coin into the air behind them, and it landed in the dirt in front of Theo. It looked golden, but there were glowing runes wrapped around its edge like veins. Sparrow walked off, whistling “The Judgement of Thunder” the way that Theo played it tonight, leaving him staring at their silhouette as it disappeared into the night.\n"
     ]
    }
   ],
   "source": [
    "from selenium import webdriver\n",
    "from selenium.webdriver.common.by import By\n",
    "\n",
    "from bs4 import BeautifulSoup\n",
    "from urllib.request import Request, urlopen\n",
    "\n",
    "from gtts import gTTS\n",
    "import os\n",
    "\n",
    "language = \"en\"\n",
    "website = \"https://www.royalroad.com/fiction/48065/improvisation-and-magic-dont-mix-a-progression/chapter/777168/1-endings-and-beginnings\"\n",
    "\n",
    "PATH = \"F:\\chromedriver.exe\"\n",
    "\n",
    "def get_content_selenium(link):\n",
    "    driver = webdriver.Chrome(PATH)\n",
    "    driver.get(link)\n",
    "    print(driver.title)\n",
    "    body = driver.find_element_by_class_name(\"chapter-content\")\n",
    "    print(body.text)\n",
    "    driver.quit()\n",
    "    return body.text\n",
    "\n",
    "def get_content_bs4(link):\n",
    "    hdr = {'User-Agent': 'Mozilla/5.0'}\n",
    "    req = Request(link,headers=hdr)\n",
    "    page = urlopen(req)\n",
    "    soup = BeautifulSoup(page, 'html.parser')\n",
    "    #print(soup)\n",
    "    chapter_content = ''\n",
    "    for data in soup.findAll('div',{'class':'chapter-content'}):\n",
    "        for item in data.find_all('p'):\n",
    "            chapter_content = chapter_content + item.text\n",
    "        print(chapter_content)\n",
    "    return chapter_content\n",
    "\n",
    "\n",
    "content = get_content_bs4(website)\n",
    "\n",
    "#get mp3 from gtts\n",
    "\n",
    "output = gTTS(text=content, lang=language, slow=False)\n",
    "output.save(\"output.mp3\")\n",
    "os.system(\"start output.mp3\")\n",
    "\n",
    "# Get all the elements available with tag name 'p'\n",
    "#elements = body.find_elements(By.TAG_NAME, 'p')\n",
    "\n",
    "#for e in elements:\n",
    "    #print(e.text)"
   ]
  }
 ],
 "metadata": {
  "kernelspec": {
   "display_name": "Python 3.9.2 64-bit",
   "metadata": {
    "interpreter": {
     "hash": "3209603dc16fa08139850b0fbcec5529b2035f6d8448c78a588ebbadffc6ff1e"
    }
   },
   "name": "python3"
  },
  "language_info": {
   "codemirror_mode": {
    "name": "ipython",
    "version": 3
   },
   "file_extension": ".py",
   "mimetype": "text/x-python",
   "name": "python",
   "nbconvert_exporter": "python",
   "pygments_lexer": "ipython3",
   "version": "3.9.2"
  },
  "orig_nbformat": 2
 },
 "nbformat": 4,
 "nbformat_minor": 2
}
