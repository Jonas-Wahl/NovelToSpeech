{
 "metadata": {
  "language_info": {
   "codemirror_mode": {
    "name": "ipython",
    "version": 3
   },
   "file_extension": ".py",
   "mimetype": "text/x-python",
   "name": "python",
   "nbconvert_exporter": "python",
   "pygments_lexer": "ipython3",
   "version": "3.9.2"
  },
  "orig_nbformat": 2,
  "kernelspec": {
   "name": "python3",
   "display_name": "Python 3.9.2 64-bit",
   "metadata": {
    "interpreter": {
     "hash": "3209603dc16fa08139850b0fbcec5529b2035f6d8448c78a588ebbadffc6ff1e"
    }
   }
  }
 },
 "nbformat": 4,
 "nbformat_minor": 2,
 "cells": [
  {
   "cell_type": "code",
   "execution_count": null,
   "metadata": {},
   "outputs": [],
   "source": [
    "from selenium import webdriver\n",
    "from selenium.webdriver.common.by import By\n",
    "\n",
    "from gtts import gTTS\n",
    "import os\n",
    "\n",
    "language = \"en\"\n",
    "\n",
    "\n",
    "PATH = \"F:\\chromedriver.exe\"\n",
    "driver = webdriver.Chrome(PATH)\n",
    "driver.get(\"https://www.royalroad.com/fiction/15935/there-is-no-epic-loot-here-only-puns/chapter/185054/1-smashing-start\")\n",
    "\n",
    "print(driver.title)\n",
    "\n",
    "body = driver.find_element_by_class_name(\"chapter-content\")\n",
    "\n",
    "#print(body.text)\n",
    "output = gTTS(text=body.text, lang=language, slow=False)\n",
    "output.save(\"output.mp3\")\n",
    "os.system(\"start output.mp3\")\n",
    "\n",
    "# Get all the elements available with tag name 'p'\n",
    "#elements = body.find_elements(By.TAG_NAME, 'p')\n",
    "\n",
    "#for e in elements:\n",
    "    #print(e.text)\n",
    "    \n",
    "\n",
    "\n",
    "driver.quit()\n"
   ]
  }
 ]
}