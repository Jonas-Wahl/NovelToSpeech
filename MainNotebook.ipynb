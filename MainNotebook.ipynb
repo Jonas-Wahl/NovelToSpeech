{
 "cells": [
  {
   "cell_type": "code",
   "execution_count": 6,
   "metadata": {},
   "outputs": [
    {
     "name": "stdout",
     "output_type": "stream",
     "text": [
      "Found the URL: /fiction/32243/chasing-experience/chapter/493212/deep-in-the-hole\n"
     ]
    }
   ],
   "source": [
    "from selenium import webdriver\n",
    "from selenium.webdriver.common.by import By\n",
    "\n",
    "from bs4 import BeautifulSoup\n",
    "from urllib.request import Request, urlopen\n",
    "\n",
    "from gtts import gTTS\n",
    "import os\n",
    "\n",
    "language = \"en\"\n",
    "chapter1 = \"https://www.royalroad.com/fiction/32243/chasing-experience/chapter/493212/deep-in-the-hole\"\n",
    "chapterList = []\n",
    "website = \"https://www.royalroad.com/fiction/33844/the-runesmith/chapter/835541/chapter-189-visiting-the-church\"\n",
    "\n",
    "PATH = \"F:\\chromedriver.exe\"\n",
    "\n",
    "def get_content_selenium(link):\n",
    "    driver = webdriver.Chrome(PATH)\n",
    "    driver.get(link)\n",
    "    print(driver.title)\n",
    "    body = driver.find_element_by_class_name(\"chapter-content\")\n",
    "    print(body.text)\n",
    "    driver.quit()\n",
    "    return body.text\n",
    "\n",
    "def get_content_bs4(link):\n",
    "    hdr = {'User-Agent': 'Mozilla/5.0'}\n",
    "    req = Request(link,headers=hdr)\n",
    "    page = urlopen(req)\n",
    "    soup = BeautifulSoup(page, 'html.parser')\n",
    "    #print(soup)\n",
    "    chapter_content = ''\n",
    "    for data in soup.findAll('div',{'class':'chapter-content'}):\n",
    "        for item in data.find_all('p'):\n",
    "            chapter_content = chapter_content + item.text\n",
    "    return chapter_content\n",
    "\n",
    "def getNextChapter(link):\n",
    "    hdr = {'User-Agent': 'Mozilla/5.0'}\n",
    "    req = Request(link,headers=hdr)\n",
    "    page = urlopen(req)\n",
    "    soup = BeautifulSoup(page, 'html.parser')\n",
    "    for a in soup.find_all('a', 'btn btn-primary col-xs-12', href=True, ):\n",
    "        print (\"Found the URL:\", a['href'])\n",
    "\n",
    "def convertStringToMP3(cont, lang):\n",
    "    #get mp3 from gtts\n",
    "    output = gTTS(text=cont, lang=lang, slow=False)\n",
    "    output.save(\"output.mp3\")\n",
    "    os.system(\"start output.mp3\")\n",
    "\n",
    "content = get_content_bs4(website)\n",
    "\n",
    "getNextChapter(chapter1)\n",
    "\n",
    "\n",
    "#convertStringToMP3(content, language)\n",
    "\n"
   ]
  }
 ],
 "metadata": {
  "kernelspec": {
   "display_name": "Python 3.9.2 64-bit",
   "metadata": {
    "interpreter": {
     "hash": "3209603dc16fa08139850b0fbcec5529b2035f6d8448c78a588ebbadffc6ff1e"
    }
   },
   "name": "python3"
  },
  "language_info": {
   "codemirror_mode": {
    "name": "ipython",
    "version": 3
   },
   "file_extension": ".py",
   "mimetype": "text/x-python",
   "name": "python",
   "nbconvert_exporter": "python",
   "pygments_lexer": "ipython3",
   "version": "3.9.2"
  },
  "orig_nbformat": 2
 },
 "nbformat": 4,
 "nbformat_minor": 2
}
